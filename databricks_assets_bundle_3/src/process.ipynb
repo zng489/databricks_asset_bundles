{
 "cells": [
  {
   "cell_type": "code",
   "execution_count": null,
   "id": "03fe1e14",
   "metadata": {},
   "outputs": [],
   "source": [
    "print('DataBricks')"
   ]
  }
 ],
 "metadata": {
  "language_info": {
   "name": "python"
  }
 },
 "nbformat": 4,
 "nbformat_minor": 5
}
